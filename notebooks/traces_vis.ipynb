{
 "cells": [
  {
   "cell_type": "code",
   "execution_count": 42,
   "id": "0dcd63c3-14a3-4c6a-ac03-292654ff1a1a",
   "metadata": {},
   "outputs": [],
   "source": [
    "import pandas as pd\n",
    "import matplotlib.pyplot as plt"
   ]
  },
  {
   "cell_type": "code",
   "execution_count": 43,
   "id": "2a49f2ae",
   "metadata": {},
   "outputs": [],
   "source": [
    "def parse_func_name(func_name_str):\n",
    "    # Func:'load_index' => \"load_index\"\n",
    "    str_l = func_name_str.split(\":\")\n",
    "    if \"completed\" in func_name_str:\n",
    "        return func_name_str\n",
    "    return str_l[-1][1:-1]\n",
    "\n",
    "def parse_latency(time_str):\n",
    "    return float(time_str[:-1])"
   ]
  },
  {
   "cell_type": "code",
   "execution_count": 52,
   "id": "d9c28715",
   "metadata": {},
   "outputs": [
    {
     "data": {
      "text/html": [
       "<div>\n",
       "<style scoped>\n",
       "    .dataframe tbody tr th:only-of-type {\n",
       "        vertical-align: middle;\n",
       "    }\n",
       "\n",
       "    .dataframe tbody tr th {\n",
       "        vertical-align: top;\n",
       "    }\n",
       "\n",
       "    .dataframe thead th {\n",
       "        text-align: right;\n",
       "    }\n",
       "</style>\n",
       "<table border=\"1\" class=\"dataframe\">\n",
       "  <thead>\n",
       "    <tr style=\"text-align: right;\">\n",
       "      <th></th>\n",
       "      <th>timesteps</th>\n",
       "      <th>action</th>\n",
       "      <th>latency</th>\n",
       "      <th>file_path</th>\n",
       "      <th>cumulative_latency</th>\n",
       "    </tr>\n",
       "  </thead>\n",
       "  <tbody>\n",
       "    <tr>\n",
       "      <th>0</th>\n",
       "      <td>2024-04-10 13:52:37</td>\n",
       "      <td>load_index</td>\n",
       "      <td>0.000111</td>\n",
       "      <td>shards/idxs/embeds_centroids.index</td>\n",
       "      <td>0.000111</td>\n",
       "    </tr>\n",
       "    <tr>\n",
       "      <th>1</th>\n",
       "      <td>2024-04-10 13:52:37</td>\n",
       "      <td>query_index</td>\n",
       "      <td>0.003985</td>\n",
       "      <td>shards/idxs/embeds_centroids.index</td>\n",
       "      <td>0.004096</td>\n",
       "    </tr>\n",
       "    <tr>\n",
       "      <th>2</th>\n",
       "      <td>2024-04-10 13:52:37</td>\n",
       "      <td>load_index</td>\n",
       "      <td>0.046999</td>\n",
       "      <td>shards/idxs/embeds_80.index</td>\n",
       "      <td>0.051094</td>\n",
       "    </tr>\n",
       "    <tr>\n",
       "      <th>3</th>\n",
       "      <td>2024-04-10 13:52:37</td>\n",
       "      <td>query_index</td>\n",
       "      <td>0.007518</td>\n",
       "      <td>shards/idxs/embeds_80.index</td>\n",
       "      <td>0.058612</td>\n",
       "    </tr>\n",
       "    <tr>\n",
       "      <th>4</th>\n",
       "      <td>2024-04-10 13:52:37</td>\n",
       "      <td>load_index</td>\n",
       "      <td>0.053365</td>\n",
       "      <td>shards/idxs/embeds_52.index</td>\n",
       "      <td>0.111977</td>\n",
       "    </tr>\n",
       "  </tbody>\n",
       "</table>\n",
       "</div>"
      ],
      "text/plain": [
       "             timesteps       action   latency  \\\n",
       "0  2024-04-10 13:52:37   load_index  0.000111   \n",
       "1  2024-04-10 13:52:37  query_index  0.003985   \n",
       "2  2024-04-10 13:52:37   load_index  0.046999   \n",
       "3  2024-04-10 13:52:37  query_index  0.007518   \n",
       "4  2024-04-10 13:52:37   load_index  0.053365   \n",
       "\n",
       "                            file_path  cumulative_latency  \n",
       "0  shards/idxs/embeds_centroids.index            0.000111  \n",
       "1  shards/idxs/embeds_centroids.index            0.004096  \n",
       "2         shards/idxs/embeds_80.index            0.051094  \n",
       "3         shards/idxs/embeds_80.index            0.058612  \n",
       "4         shards/idxs/embeds_52.index            0.111977  "
      ]
     },
     "execution_count": 52,
     "metadata": {},
     "output_type": "execute_result"
    }
   ],
   "source": [
    "# read log file without header\n",
    "df = pd.read_csv('../logs/st_index.log', header=None)\n",
    "\n",
    "# change column name\n",
    "df.columns = [\"timesteps\", \"action\", \"latency\", \"file_path\"]\n",
    "\n",
    "df[\"action\"] = df[\"action\"].map(parse_func_name)\n",
    "df[\"latency\"] = df[\"latency\"].map(parse_latency)\n",
    "\n",
    "# make a new column for the cumulative sum of the latency\n",
    "df[\"cumulative_latency\"] = df[\"latency\"].cumsum()\n",
    "\n",
    "df.head()"
   ]
  },
  {
   "cell_type": "code",
   "execution_count": 53,
   "id": "abf9fdb8",
   "metadata": {},
   "outputs": [],
   "source": [
    "load_index_hbars = []\n",
    "search_index_hbars = []\n",
    "for idx, row in df.iterrows():\n",
    "    start_time = row[\"cumulative_latency\"] - row[\"latency\"]\n",
    "    if row[\"action\"] == \"load_index\":\n",
    "        load_index_hbars.append((start_time, row[\"latency\"]))\n",
    "    elif row[\"action\"] == \"query_index\":\n",
    "        search_index_hbars.append((start_time, row[\"latency\"]))"
   ]
  },
  {
   "cell_type": "code",
   "execution_count": 58,
   "id": "60c56cb9",
   "metadata": {},
   "outputs": [
    {
     "data": {
      "image/png": "[encoded data removed]",
      "text/plain": [
       "<Figure size 900x100 with 1 Axes>"
      ]
     },
     "metadata": {},
     "output_type": "display_data"
    }
   ],
   "source": [
    "upto = 50\n",
    "\n",
    "fig, ax = plt.subplots(figsize=(9, 1))\n",
    "# ax.set_yticklabels(['load', 'search'])\n",
    "\n",
    "bar_width = 0.5\n",
    "bar_gap = 0.01\n",
    "# [(x, length), ()], (y, bar_width)\n",
    "ax.broken_barh(load_index_hbars[:upto], (1, bar_width), facecolors =('tab:orange'))\n",
    "ax.broken_barh(search_index_hbars[:upto], (1+bar_width+bar_gap, bar_width), facecolors =('tab:green'))\n",
    "\n",
    "ax.set_yticks([1+bar_width/2, 1+bar_width+bar_gap+bar_width/2], ['load_index', 'search_index'])\n",
    "\n",
    "ax.grid(True, alpha=0.5)\n",
    "fig.show()"
   ]
  },
  {
   "cell_type": "code",
   "execution_count": null,
   "id": "07bda964",
   "metadata": {},
   "outputs": [],
   "source": []
  },
  {
   "cell_type": "code",
   "execution_count": 59,
   "id": "d87b12ad",
   "metadata": {},
   "outputs": [],
   "source": [
    "# read log file without header\n",
    "df = pd.read_csv('../logs/st_query.log', header=None)\n",
    "\n",
    "# change column name\n",
    "df.columns = [\"timesteps\", \"action\", \"latency\", \"file_path\"]\n",
    "\n",
    "df[\"action\"] = df[\"action\"].map(parse_func_name)\n",
    "df[\"latency\"] = df[\"latency\"].map(parse_latency)\n",
    "\n",
    "# make a new column for the cumulative sum of the latency\n",
    "df[\"cumulative_latency\"] = df[\"latency\"].cumsum()\n",
    "\n",
    "load_index_hbars = []\n",
    "search_index_hbars = []\n",
    "for idx, row in df.iterrows():\n",
    "    start_time = row[\"cumulative_latency\"] - row[\"latency\"]\n",
    "    if row[\"action\"] == \"load_index\":\n",
    "        load_index_hbars.append((start_time, row[\"latency\"]))\n",
    "    elif row[\"action\"] == \"query_index\":\n",
    "        search_index_hbars.append((start_time, row[\"latency\"]))"
   ]
  },
  {
   "cell_type": "code",
   "execution_count": 62,
   "id": "911678fd",
   "metadata": {},
   "outputs": [
    {
     "data": {
      "image/png": "[encoded data removed]",
      "text/plain": [
       "<Figure size 900x100 with 1 Axes>"
      ]
     },
     "metadata": {},
     "output_type": "display_data"
    }
   ],
   "source": [
    "fig, ax = plt.subplots(figsize=(9, 1))\n",
    "# ax.set_yticklabels(['load', 'search'])\n",
    "\n",
    "bar_width = 0.5\n",
    "bar_gap = 0.01\n",
    "# [(x, length), ()], (y, bar_width)\n",
    "ax.broken_barh(load_index_hbars[:upto], (1, bar_width), facecolors =('tab:orange'))\n",
    "ax.broken_barh(search_index_hbars[:upto], (1+bar_width+bar_gap, bar_width), facecolors =('tab:green'))\n",
    "\n",
    "ax.set_yticks([1+bar_width/2, 1+bar_width+bar_gap+bar_width/2], ['load_index', 'search_index'])\n",
    "\n",
    "ax.grid(True, alpha=0.5)\n",
    "fig.show()"
   ]
  },
  {
   "cell_type": "code",
   "execution_count": 64,
   "id": "80d8ec2e",
   "metadata": {},
   "outputs": [
    {
     "data": {
      "text/plain": [
       "[(9.906999999999971e-05, 0.05053916),\n",
       " (0.09634825999999999, 0.00014739),\n",
       " (0.13787381999999998, 0.00012624),\n",
       " (0.1793224, 0.00011903),\n",
       " (0.22017327999999997, 8.743e-05),\n",
       " (0.26140571999999995, 0.00011035),\n",
       " (0.3042510299999999, 9.821e-05),\n",
       " (0.3455911399999999, 9.257e-05),\n",
       " (0.3887548599999999, 0.00011479),\n",
       " (0.4297747899999999, 0.00011615),\n",
       " (0.4709781899999999, 9.39e-05),\n",
       " (0.4710720899999999, 9.513e-05),\n",
       " (0.4711672199999999, 7.733e-05),\n",
       " (0.4712445499999999, 7.068e-05),\n",
       " (0.47131522999999986, 6.825e-05),\n",
       " (0.47138347999999985, 6.821e-05),\n",
       " (0.47145168999999987, 6.212e-05),\n",
       " (0.47151380999999987, 6.758e-05),\n",
       " (0.4715813899999999, 6.559e-05),\n",
       " (0.5131548899999999, 9.543e-05),\n",
       " (0.5543134599999999, 0.00010156),\n",
       " (0.5544150199999999, 7.146e-05),\n",
       " (0.5544864799999999, 6.864e-05),\n",
       " (0.5545551199999998, 6.579e-05),\n",
       " (0.5546209099999998, 6.732e-05),\n",
       " (0.5546882299999998, 6.406e-05),\n",
       " (0.5547522899999998, 7.294e-05),\n",
       " (0.5548252299999998, 6.706e-05),\n",
       " (0.5977847399999998, 9.555e-05),\n",
       " (0.6391111099999999, 0.00011194),\n",
       " (0.6793968999999999, 9.706e-05),\n",
       " (0.6794939599999998, 8.267e-05),\n",
       " (0.6795766299999998, 6.907e-05),\n",
       " (0.6796456999999998, 6.426e-05),\n",
       " (0.6797099599999998, 6.928e-05),\n",
       " (0.6797792399999998, 6.748e-05),\n",
       " (0.6798467199999998, 7.238e-05),\n",
       " (0.6799190999999998, 6.372e-05),\n",
       " (0.6799828199999998, 6.579e-05),\n",
       " (0.6800486099999997, 6.387e-05),\n",
       " (0.6801124799999997, 5.712e-05),\n",
       " (0.6801695999999997, 6.013e-05),\n",
       " (0.6802297299999998, 6.736e-05),\n",
       " (0.6802970899999997, 6.238e-05),\n",
       " (0.6803594699999997, 6.825e-05),\n",
       " (0.6804277199999997, 7.01e-05),\n",
       " (0.6804978199999997, 5.596e-05),\n",
       " (0.6805537799999997, 6.935e-05),\n",
       " (0.6806231299999996, 6.808e-05),\n",
       " (0.6806912099999997, 6.095e-05)]"
      ]
     },
     "execution_count": 64,
     "metadata": {},
     "output_type": "execute_result"
    }
   ],
   "source": [
    "search_index_hbars[:50]"
   ]
  },
  {
   "cell_type": "code",
   "execution_count": null,
   "id": "f4565fab",
   "metadata": {},
   "outputs": [],
   "source": []
  }
 ],
 "metadata": {
  "kernelspec": {
   "display_name": "Python 3 (ipykernel)",
   "language": "python",
   "name": "python3"
  },
  "language_info": {
   "codemirror_mode": {
    "name": "ipython",
    "version": 3
   },
   "file_extension": ".py",
   "mimetype": "text/x-python",
   "name": "python",
   "nbconvert_exporter": "python",
   "pygments_lexer": "ipython3",
   "version": "3.9.19"
  }
 },
 "nbformat": 4,
 "nbformat_minor": 5
}
