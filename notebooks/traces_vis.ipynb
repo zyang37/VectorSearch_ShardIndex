{
 "cells": [
  {
   "cell_type": "code",
   "execution_count": 1,
   "id": "0dcd63c3-14a3-4c6a-ac03-292654ff1a1a",
   "metadata": {},
   "outputs": [],
   "source": [
    "import pandas as pd\n",
    "import matplotlib.pyplot as plt\n",
    "\n",
    "log_headers = [\"timesteps\", \"action\", \"latency\", \"file_path\", \"num_query\"]"
   ]
  },
  {
   "cell_type": "code",
   "execution_count": 2,
   "id": "2a49f2ae",
   "metadata": {},
   "outputs": [],
   "source": [
    "def parse_func_name(func_name_str):\n",
    "    # Func:'load_index' => \"load_index\"\n",
    "    str_l = func_name_str.split(\":\")\n",
    "    if \"completed\" in func_name_str:\n",
    "        return func_name_str\n",
    "    return str_l[-1][1:-1]\n",
    "\n",
    "def parse_latency(time_str):\n",
    "    return float(time_str[:-1])\n",
    "\n",
    "def create_gantt_chart(load_index_hbars, search_index_hbars, figsize=(8, 1), ax=None, vline=True):\n",
    "    return_ax = False\n",
    "    if ax is None:\n",
    "        fig, ax = plt.subplots(figsize=figsize)\n",
    "        return_ax = True\n",
    "\n",
    "    bar_width = 0.5\n",
    "    bar_gap = 0.0\n",
    "    # [(x, length), ()], (y, bar_width)\n",
    "    ax.broken_barh(load_index_hbars[:], (1, bar_width), facecolors =('darkorange'))\n",
    "    ax.broken_barh(search_index_hbars[:], (1+bar_width+bar_gap, bar_width), facecolors =('green'))\n",
    "\n",
    "    ax.set_yticks([1+bar_width/2, 1+bar_width+bar_gap+bar_width/2], ['load', 'search'])\n",
    "    # ax.grid(True, alpha=0.5)\n",
    "\n",
    "    if vline:\n",
    "        last_x = search_index_hbars[-1][0]+search_index_hbars[-1][1]\n",
    "        ax.axvline(x=last_x, color='black', linestyle='--', alpha=1)\n",
    "\n",
    "    if return_ax:\n",
    "        return fig, ax\n",
    "    return ax"
   ]
  },
  {
   "cell_type": "code",
   "execution_count": 3,
   "id": "d9c28715",
   "metadata": {},
   "outputs": [
    {
     "data": {
      "text/html": [
       "<div>\n",
       "<style scoped>\n",
       "    .dataframe tbody tr th:only-of-type {\n",
       "        vertical-align: middle;\n",
       "    }\n",
       "\n",
       "    .dataframe tbody tr th {\n",
       "        vertical-align: top;\n",
       "    }\n",
       "\n",
       "    .dataframe thead th {\n",
       "        text-align: right;\n",
       "    }\n",
       "</style>\n",
       "<table border=\"1\" class=\"dataframe\">\n",
       "  <thead>\n",
       "    <tr style=\"text-align: right;\">\n",
       "      <th></th>\n",
       "      <th>timesteps</th>\n",
       "      <th>action</th>\n",
       "      <th>latency</th>\n",
       "      <th>file_path</th>\n",
       "      <th>num_query</th>\n",
       "      <th>cumulative_latency</th>\n",
       "      <th>start_time</th>\n",
       "    </tr>\n",
       "  </thead>\n",
       "  <tbody>\n",
       "    <tr>\n",
       "      <th>0</th>\n",
       "      <td>2024-04-10 20:15:27</td>\n",
       "      <td>load_index</td>\n",
       "      <td>0.000393</td>\n",
       "      <td>shards/idxs/embeds_centroids.index</td>\n",
       "      <td>0</td>\n",
       "      <td>0.000393</td>\n",
       "      <td>0.000000</td>\n",
       "    </tr>\n",
       "    <tr>\n",
       "      <th>1</th>\n",
       "      <td>2024-04-10 20:15:27</td>\n",
       "      <td>query_index</td>\n",
       "      <td>0.055503</td>\n",
       "      <td>shards/idxs/embeds_centroids.index</td>\n",
       "      <td>10000</td>\n",
       "      <td>0.055896</td>\n",
       "      <td>0.000393</td>\n",
       "    </tr>\n",
       "    <tr>\n",
       "      <th>2</th>\n",
       "      <td>2024-04-10 20:15:28</td>\n",
       "      <td>load_index</td>\n",
       "      <td>0.004287</td>\n",
       "      <td>shards/idxs/embeds_287.index</td>\n",
       "      <td>0</td>\n",
       "      <td>0.060183</td>\n",
       "      <td>0.055896</td>\n",
       "    </tr>\n",
       "    <tr>\n",
       "      <th>3</th>\n",
       "      <td>2024-04-10 20:15:28</td>\n",
       "      <td>query_index</td>\n",
       "      <td>0.008851</td>\n",
       "      <td>shards/idxs/embeds_287.index</td>\n",
       "      <td>2750</td>\n",
       "      <td>0.069033</td>\n",
       "      <td>0.060183</td>\n",
       "    </tr>\n",
       "    <tr>\n",
       "      <th>4</th>\n",
       "      <td>2024-04-10 20:15:28</td>\n",
       "      <td>load_index</td>\n",
       "      <td>0.004655</td>\n",
       "      <td>shards/idxs/embeds_182.index</td>\n",
       "      <td>0</td>\n",
       "      <td>0.073688</td>\n",
       "      <td>0.069033</td>\n",
       "    </tr>\n",
       "  </tbody>\n",
       "</table>\n",
       "</div>"
      ],
      "text/plain": [
       "             timesteps       action   latency  \\\n",
       "0  2024-04-10 20:15:27   load_index  0.000393   \n",
       "1  2024-04-10 20:15:27  query_index  0.055503   \n",
       "2  2024-04-10 20:15:28   load_index  0.004287   \n",
       "3  2024-04-10 20:15:28  query_index  0.008851   \n",
       "4  2024-04-10 20:15:28   load_index  0.004655   \n",
       "\n",
       "                            file_path  num_query  cumulative_latency  \\\n",
       "0  shards/idxs/embeds_centroids.index          0            0.000393   \n",
       "1  shards/idxs/embeds_centroids.index      10000            0.055896   \n",
       "2        shards/idxs/embeds_287.index          0            0.060183   \n",
       "3        shards/idxs/embeds_287.index       2750            0.069033   \n",
       "4        shards/idxs/embeds_182.index          0            0.073688   \n",
       "\n",
       "   start_time  \n",
       "0    0.000000  \n",
       "1    0.000393  \n",
       "2    0.055896  \n",
       "3    0.060183  \n",
       "4    0.069033  "
      ]
     },
     "execution_count": 3,
     "metadata": {},
     "output_type": "execute_result"
    }
   ],
   "source": [
    "# read log file without header\n",
    "df = pd.read_csv('../logs/st_index_1_batch.log', header=None)\n",
    "\n",
    "# change column name\n",
    "df.columns = log_headers\n",
    "\n",
    "df[\"action\"] = df[\"action\"].map(parse_func_name)\n",
    "df[\"latency\"] = df[\"latency\"].map(parse_latency)\n",
    "\n",
    "# make a new column for the cumulative sum of the latency\n",
    "df[\"cumulative_latency\"] = df[\"latency\"].cumsum()\n",
    "df[\"start_time\"] = df[\"cumulative_latency\"] - df[\"latency\"]\n",
    "\n",
    "df.head()"
   ]
  },
  {
   "cell_type": "code",
   "execution_count": 4,
   "id": "7e91b619",
   "metadata": {},
   "outputs": [],
   "source": [
    "load_index_hbars = []\n",
    "search_index_hbars = []\n",
    "\n",
    "for i, row in df[df[\"action\"] == \"load_index\"].iterrows():\n",
    "    load_index_hbars.append((row[\"start_time\"], row[\"latency\"]))\n",
    "\n",
    "for i, row in df[df[\"action\"] == \"query_index\"].iterrows():\n",
    "    search_index_hbars.append((row[\"start_time\"], row[\"latency\"]))"
   ]
  },
  {
   "cell_type": "code",
   "execution_count": 5,
   "id": "b5cd8cfe",
   "metadata": {},
   "outputs": [
    {
     "data": {
      "image/png": "[encoded data removed]",
      "text/plain": [
       "<Figure size 800x100 with 1 Axes>"
      ]
     },
     "metadata": {},
     "output_type": "display_data"
    }
   ],
   "source": [
    "fig, ax = create_gantt_chart(load_index_hbars, search_index_hbars, ax=None)\n",
    "fig.tight_layout()\n",
    "plt.show()"
   ]
  },
  {
   "cell_type": "code",
   "execution_count": 6,
   "id": "d87b12ad",
   "metadata": {},
   "outputs": [],
   "source": [
    "# read log file without header\n",
    "df = pd.read_csv('../logs/st_query_1_batch.log', header=None)\n",
    "\n",
    "# change column name\n",
    "df.columns = log_headers\n",
    "\n",
    "df[\"action\"] = df[\"action\"].map(parse_func_name)\n",
    "df[\"latency\"] = df[\"latency\"].map(parse_latency)\n",
    "\n",
    "# make a new column for the cumulative sum of the latency\n",
    "df[\"cumulative_latency\"] = df[\"latency\"].cumsum()\n",
    "df[\"start_time\"] = df[\"cumulative_latency\"] - df[\"latency\"]"
   ]
  },
  {
   "cell_type": "code",
   "execution_count": 7,
   "id": "822024a1",
   "metadata": {},
   "outputs": [],
   "source": [
    "# load_index_hbars2 = []\n",
    "# search_index_hbars2 = []\n",
    "# for idx, row in df.iterrows():\n",
    "#     start_time = row[\"cumulative_latency\"] - row[\"latency\"]\n",
    "#     if row[\"action\"] == \"load_index\":\n",
    "#         load_index_hbars2.append((start_time, row[\"latency\"]))\n",
    "#     elif row[\"action\"] == \"query_index\":\n",
    "#         search_index_hbars2.append((start_time, row[\"latency\"]))\n",
    "\n",
    "load_index_hbars2 = []\n",
    "search_index_hbars2 = []\n",
    "\n",
    "for i, row in df[df[\"action\"] == \"load_index\"].iterrows():\n",
    "    load_index_hbars2.append((row[\"start_time\"], row[\"latency\"]))\n",
    "\n",
    "for i, row in df[df[\"action\"] == \"query_index\"].iterrows():\n",
    "    search_index_hbars2.append((row[\"start_time\"], row[\"latency\"]))"
   ]
  },
  {
   "cell_type": "code",
   "execution_count": 8,
   "id": "f4565fab",
   "metadata": {},
   "outputs": [
    {
     "data": {
      "image/png": "[encoded data removed]",
      "text/plain": [
       "<Figure size 800x200 with 2 Axes>"
      ]
     },
     "metadata": {},
     "output_type": "display_data"
    }
   ],
   "source": [
    "# make subplot 2 columns\n",
    "fig, ax = plt.subplots(2, 1, figsize=(8, 2))\n",
    "ax[0] = create_gantt_chart(load_index_hbars, search_index_hbars, ax=ax[0])\n",
    "ax[1] = create_gantt_chart(load_index_hbars2, search_index_hbars2, ax=ax[1])\n",
    "\n",
    "\n",
    "# remove xticks from the first subplot\n",
    "plt.setp(ax[0].get_xticklabels(), visible=False)\n",
    "\n",
    "# set xlim for the second subplot\n",
    "max_x = 2.9\n",
    "ax[1].set_xlim(-0., max_x)\n",
    "ax[0].set_xlim(-0., max_x)\n",
    "\n",
    "# set xlabel for the second subplot\n",
    "ax[0].set_ylabel(\"S2\")\n",
    "ax[1].set_ylabel(\"S1\")\n",
    "# ax[1].set_xlabel(\"Time (s)\")\n",
    "\n",
    "fig.tight_layout()\n",
    "# fig.savefig(\"test.pdf\")\n",
    "fig.show()"
   ]
  },
  {
   "cell_type": "code",
   "execution_count": null,
   "id": "b44c6384",
   "metadata": {},
   "outputs": [],
   "source": []
  },
  {
   "cell_type": "code",
   "execution_count": null,
   "id": "4b42df7e",
   "metadata": {},
   "outputs": [],
   "source": []
  }
 ],
 "metadata": {
  "kernelspec": {
   "display_name": "Python 3 (ipykernel)",
   "language": "python",
   "name": "python3"
  },
  "language_info": {
   "codemirror_mode": {
    "name": "ipython",
    "version": 3
   },
   "file_extension": ".py",
   "mimetype": "text/x-python",
   "name": "python",
   "nbconvert_exporter": "python",
   "pygments_lexer": "ipython3",
   "version": "3.9.19"
  }
 },
 "nbformat": 4,
 "nbformat_minor": 5
}
