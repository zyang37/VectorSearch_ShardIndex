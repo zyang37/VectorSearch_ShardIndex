{
 "cells": [
  {
   "cell_type": "code",
   "execution_count": 1,
   "id": "0dcd63c3-14a3-4c6a-ac03-292654ff1a1a",
   "metadata": {},
   "outputs": [
    {
     "data": {
      "text/plain": [
       "<Figure size 640x480 with 0 Axes>"
      ]
     },
     "metadata": {},
     "output_type": "display_data"
    }
   ],
   "source": [
    "import time\n",
    "import pandas as pd\n",
    "import numpy as np\n",
    "from datetime import datetime\n",
    "import matplotlib.pyplot as plt\n",
    "\n",
    "params = {\n",
    "    # 'font.family': 'Inter',\n",
    "    'font.family': 'sans-serif',\n",
    "    'legend.fontsize': 'x-small',\n",
    "    'axes.labelsize': 'x-small',\n",
    "    'axes.titlesize': 'x-small',\n",
    "    'xtick.labelsize': 'x-small',\n",
    "    'ytick.labelsize': 'x-small',\n",
    "    # 'figure.figsize': (3.0, 1.7),\n",
    "}\n",
    "plt.rcParams.update(params)\n",
    "plt.clf()\n",
    "\n",
    "log_headers = [\"timesteps\", \"start_time\", \"action\", \"latency\", \"file_path\", \"num_query\"]"
   ]
  },
  {
   "cell_type": "code",
   "execution_count": 2,
   "id": "2a49f2ae",
   "metadata": {},
   "outputs": [],
   "source": [
    "def parse_timestamp(timestamp_str):\n",
    "    # 2024-04-12 14:45:40.00857\n",
    "    # to datetime object\n",
    "    return pd.to_datetime(timestamp_str, format='%Y-%m-%d %H:%M:%S.%f')\n",
    "\n",
    "def parse_func_name(func_name_str):\n",
    "    # Func:'load_index' => \"load_index\"\n",
    "    str_l = func_name_str.split(\":\")\n",
    "    if \"completed\" in func_name_str:\n",
    "        return func_name_str\n",
    "    return str_l[-1][:]\n",
    "\n",
    "def parse_latency(time_str):\n",
    "    return float(time_str[:-1])\n",
    "\n",
    "def create_gantt_chart(load_index_hbars, search_index_hbars, figsize=(6, 1), ax=None, vline=True):\n",
    "    return_ax = False\n",
    "    if ax is None:\n",
    "        fig, ax = plt.subplots(figsize=figsize)\n",
    "        return_ax = True\n",
    "\n",
    "    bar_width = 0.5\n",
    "    bar_gap = 0.0\n",
    "    # [(x, length), ()], (y, bar_width)\n",
    "    ax.broken_barh(load_index_hbars[:], (1, bar_width), facecolors =('darkorange'))\n",
    "    ax.broken_barh(search_index_hbars[:], (1+bar_width+bar_gap, bar_width), facecolors =('green'))\n",
    "\n",
    "    ax.set_yticks([1+bar_width/2, 1+bar_width+bar_gap+bar_width/2], ['load', 'search'])\n",
    "    # ax.grid(True, alpha=0.5)\n",
    "\n",
    "    if vline:\n",
    "        last_x = search_index_hbars[-1][0]+search_index_hbars[-1][1]\n",
    "        ax.axvline(x=last_x, color='black', linestyle='--', alpha=1)\n",
    "\n",
    "    if return_ax:\n",
    "        return fig, ax\n",
    "    return ax"
   ]
  },
  {
   "cell_type": "markdown",
   "id": "43001adb",
   "metadata": {},
   "source": [
    "# Index async"
   ]
  },
  {
   "cell_type": "code",
   "execution_count": 68,
   "id": "77422415",
   "metadata": {},
   "outputs": [
    {
     "data": {
      "image/png": "[encoded data removed]",
      "text/plain": [
       "<Figure size 600x100 with 1 Axes>"
      ]
     },
     "metadata": {},
     "output_type": "display_data"
    }
   ],
   "source": [
    "# read log file without header\n",
    "# fpath = '../logs/st_index_async_1_batch.log'\n",
    "fpath = '../logs/app.log'\n",
    "df = pd.read_csv(fpath, header=None)\n",
    "\n",
    "# change column name\n",
    "df.columns = log_headers\n",
    "\n",
    "# df['fine_timesteps'] = df['fine_timesteps'].map(parse_timestamp)\n",
    "\n",
    "df[\"action\"] = df[\"action\"].map(parse_func_name)\n",
    "df[\"latency\"] = df[\"latency\"].map(parse_latency)\n",
    "df['start_time'] = df['start_time'] - df['start_time'][0]\n",
    "\n",
    "load_index_hbars3 = []\n",
    "search_index_hbars3 = []\n",
    "\n",
    "for i, row in df[df[\"action\"] == \"load_index\"].iterrows():\n",
    "    load_index_hbars3.append((row[\"start_time\"], row[\"latency\"]))\n",
    "\n",
    "for i, row in df[df[\"action\"] == \"query_index\"].iterrows():\n",
    "    search_index_hbars3.append((row[\"start_time\"], row[\"latency\"]))\n",
    "\n",
    "fig, ax = create_gantt_chart(load_index_hbars3, search_index_hbars3, ax=None)\n",
    "fig.tight_layout()\n",
    "plt.savefig(\"st_index_async_1_batch.pdf\")\n",
    "plt.show()"
   ]
  },
  {
   "cell_type": "markdown",
   "id": "c2438904",
   "metadata": {},
   "source": [
    "# index "
   ]
  },
  {
   "cell_type": "markdown",
   "id": "2da537c5",
   "metadata": {},
   "source": []
  },
  {
   "cell_type": "code",
   "execution_count": null,
   "id": "d9c28715",
   "metadata": {},
   "outputs": [],
   "source": [
    "# read log file without header\n",
    "df = pd.read_csv('../logs/st_index_1_batch.log', header=None)\n",
    "\n",
    "# change column name\n",
    "df.columns = log_headers\n",
    "\n",
    "# df['fine_timesteps'] = df['fine_timesteps'].map(parse_timestamp)\n",
    "\n",
    "df[\"action\"] = df[\"action\"].map(parse_func_name)\n",
    "df[\"latency\"] = df[\"latency\"].map(parse_latency)\n",
    "\n",
    "# make a new column for the cumulative sum of the latency\n",
    "df[\"cumulative_latency\"] = df[\"latency\"].cumsum()\n",
    "df[\"start_time_old\"] = df[\"cumulative_latency\"] - df[\"latency\"]\n",
    "df['start_time'] = df['start_time'] - df['start_time'][0]\n",
    "# df['start_time'] = df['start_time'].dt.total_seconds()\n",
    "\n",
    "df.head()"
   ]
  },
  {
   "cell_type": "code",
   "execution_count": null,
   "id": "806ee7c0",
   "metadata": {},
   "outputs": [],
   "source": [
    "load_index_hbars = []\n",
    "search_index_hbars = []\n",
    "\n",
    "for i, row in df[df[\"action\"] == \"load_index\"].iterrows():\n",
    "    load_index_hbars.append((row[\"start_time\"], row[\"latency\"]))\n",
    "\n",
    "for i, row in df[df[\"action\"] == \"query_index\"].iterrows():\n",
    "    search_index_hbars.append((row[\"start_time\"], row[\"latency\"]))\n",
    "\n",
    "fig, ax = create_gantt_chart(load_index_hbars, search_index_hbars, ax=None)\n",
    "fig.tight_layout()\n",
    "plt.savefig(\"st_index_1_batch.pdf\")\n",
    "plt.show()"
   ]
  },
  {
   "cell_type": "code",
   "execution_count": null,
   "id": "b5cd8cfe",
   "metadata": {},
   "outputs": [],
   "source": [
    "# # OLD\n",
    "\n",
    "# load_index_hbars = []\n",
    "# search_index_hbars = []\n",
    "\n",
    "# for i, row in df[df[\"action\"] == \"load_index\"].iterrows():\n",
    "#     load_index_hbars.append((row[\"start_time_old\"], row[\"latency\"]))\n",
    "\n",
    "# for i, row in df[df[\"action\"] == \"query_index\"].iterrows():\n",
    "#     search_index_hbars.append((row[\"start_time_old\"], row[\"latency\"]))\n",
    "\n",
    "# fig, ax = create_gantt_chart(load_index_hbars, search_index_hbars, ax=None)\n",
    "# fig.tight_layout()\n",
    "# plt.show()"
   ]
  },
  {
   "cell_type": "code",
   "execution_count": null,
   "id": "d87b12ad",
   "metadata": {},
   "outputs": [],
   "source": [
    "# read log file without header\n",
    "df = pd.read_csv('../logs/st_query_1_batch.log', header=None)\n",
    "\n",
    "# change column name\n",
    "df.columns = log_headers\n",
    "\n",
    "# df['fine_timesteps'] = df['fine_timesteps'].map(parse_timestamp)\n",
    "\n",
    "df[\"action\"] = df[\"action\"].map(parse_func_name)\n",
    "df[\"latency\"] = df[\"latency\"].map(parse_latency)\n",
    "\n",
    "# make a new column for the cumulative sum of the latency\n",
    "df[\"cumulative_latency\"] = df[\"latency\"].cumsum()\n",
    "df[\"start_time_old\"] = df[\"cumulative_latency\"] - df[\"latency\"]\n",
    "df['start_time'] = df['start_time'] - df['start_time'][0]\n",
    "# df['start_time'] = df['start_time'].dt.total_seconds()\n",
    "\n",
    "df.head()"
   ]
  },
  {
   "cell_type": "code",
   "execution_count": null,
   "id": "822024a1",
   "metadata": {},
   "outputs": [],
   "source": [
    "# load_index_hbars2 = []\n",
    "# search_index_hbars2 = []\n",
    "# for idx, row in df.iterrows():\n",
    "#     start_time = row[\"cumulative_latency\"] - row[\"latency\"]\n",
    "#     if row[\"action\"] == \"load_index\":\n",
    "#         load_index_hbars2.append((start_time, row[\"latency\"]))\n",
    "#     elif row[\"action\"] == \"query_index\":\n",
    "#         search_index_hbars2.append((start_time, row[\"latency\"]))\n",
    "\n",
    "load_index_hbars2 = []\n",
    "search_index_hbars2 = []\n",
    "\n",
    "for i, row in df[df[\"action\"] == \"load_index\"].iterrows():\n",
    "    load_index_hbars2.append((row[\"start_time\"], row[\"latency\"]))\n",
    "\n",
    "for i, row in df[df[\"action\"] == \"query_index\"].iterrows():\n",
    "    search_index_hbars2.append((row[\"start_time\"], row[\"latency\"]))"
   ]
  },
  {
   "cell_type": "code",
   "execution_count": null,
   "id": "7b3837cb",
   "metadata": {},
   "outputs": [],
   "source": []
  },
  {
   "cell_type": "code",
   "execution_count": null,
   "id": "71a98f21",
   "metadata": {},
   "outputs": [],
   "source": [
    "i = 0\n",
    "print(load_index_hbars2[i])\n",
    "print(search_index_hbars2[i])"
   ]
  },
  {
   "cell_type": "code",
   "execution_count": null,
   "id": "f4565fab",
   "metadata": {},
   "outputs": [],
   "source": [
    "# make subplot 2 columns\n",
    "fig, ax = plt.subplots(2, 1, figsize=(6, 2))\n",
    "ax[0] = create_gantt_chart(load_index_hbars2, search_index_hbars2, ax=ax[0])\n",
    "ax[1] = create_gantt_chart(load_index_hbars, search_index_hbars, ax=ax[1])\n",
    "\n",
    "\n",
    "# remove xticks from the first subplot\n",
    "plt.setp(ax[0].get_xticklabels(), visible=False)\n",
    "\n",
    "# set xlim for the second subplot\n",
    "max_x = max(search_index_hbars[-1][0]+search_index_hbars[-1][1], search_index_hbars2[-1][0]+search_index_hbars2[-1][1])\n",
    "ax[1].set_xlim(-0., max_x*1.01)\n",
    "ax[0].set_xlim(-0., max_x*1.01)\n",
    "\n",
    "# set xlabel for the second subplot\n",
    "# ax[0].set_ylabel(\"S2\")\n",
    "# ax[1].set_ylabel(\"S1\")\n",
    "# ax[1].set_xlabel(\"Time (s)\")\n",
    "\n",
    "fig.tight_layout()\n",
    "# fig.savefig(\"async_test.pdf\")\n",
    "fig.show()"
   ]
  },
  {
   "cell_type": "code",
   "execution_count": null,
   "id": "4b42df7e",
   "metadata": {},
   "outputs": [],
   "source": [
    "# make subplot 2 columns\n",
    "fig, ax = plt.subplots(3, 1, figsize=(5, 2.5))\n",
    "\n",
    "ax[0] = create_gantt_chart(load_index_hbars2, search_index_hbars2, ax=ax[0])\n",
    "ax[1] = create_gantt_chart(load_index_hbars, search_index_hbars, ax=ax[1])\n",
    "ax[2] = create_gantt_chart(load_index_hbars3, search_index_hbars3, ax=ax[2])\n",
    "\n",
    "\n",
    "# remove xticks from the first subplot\n",
    "plt.setp(ax[0].get_xticklabels(), visible=False)\n",
    "plt.setp(ax[1].get_xticklabels(), visible=False)\n",
    "\n",
    "# set xlim for the second subplot\n",
    "max_x = max(search_index_hbars[-1][0]+search_index_hbars[-1][1], search_index_hbars2[-1][0]+search_index_hbars2[-1][1])\n",
    "\n",
    "ax[0].set_xlim(-0., max_x*1.01)\n",
    "ax[1].set_xlim(-0., max_x*1.01)\n",
    "ax[2].set_xlim(-0., max_x*1.01)\n",
    "\n",
    "# set xlabel for the second subplot\n",
    "# ax[0].set_ylabel(\"S2\")\n",
    "# ax[1].set_ylabel(\"S1\")\n",
    "# ax[1].set_xlabel(\"Time (s)\")\n",
    "\n",
    "# Add finer xticks, 0.5s, up to max_x*1.01\n",
    "ax[0].set_xticks(np.arange(0, max_x*1.01, 1))\n",
    "ax[1].set_xticks(np.arange(0, max_x*1.01, 1))\n",
    "ax[2].set_xticks(np.arange(0, max_x*1.01, 1))\n",
    "\n",
    "fig.tight_layout()\n",
    "# fig.savefig(\"async_test5.pdf\")\n",
    "fig.show()"
   ]
  },
  {
   "cell_type": "code",
   "execution_count": null,
   "id": "22f3e70c",
   "metadata": {},
   "outputs": [],
   "source": []
  },
  {
   "cell_type": "code",
   "execution_count": null,
   "id": "a5be2e0a",
   "metadata": {},
   "outputs": [],
   "source": []
  }
 ],
 "metadata": {
  "kernelspec": {
   "display_name": "Python 3 (ipykernel)",
   "language": "python",
   "name": "python3"
  },
  "language_info": {
   "codemirror_mode": {
    "name": "ipython",
    "version": 3
   },
   "file_extension": ".py",
   "mimetype": "text/x-python",
   "name": "python",
   "nbconvert_exporter": "python",
   "pygments_lexer": "ipython3",
   "version": "3.9.19"
  }
 },
 "nbformat": 4,
 "nbformat_minor": 5
}
