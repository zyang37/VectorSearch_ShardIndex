{
 "cells": [
  {
   "cell_type": "code",
   "execution_count": 2,
   "id": "0dcd63c3-14a3-4c6a-ac03-292654ff1a1a",
   "metadata": {},
   "outputs": [
    {
     "data": {
      "text/plain": [
       "<Figure size 640x480 with 0 Axes>"
      ]
     },
     "metadata": {},
     "output_type": "display_data"
    }
   ],
   "source": [
    "import time\n",
    "import pandas as pd\n",
    "import numpy as np\n",
    "from datetime import datetime\n",
    "import matplotlib.pyplot as plt\n",
    "\n",
    "params = {\n",
    "    # 'font.family': 'Inter',\n",
    "    'font.family': 'sans-serif',\n",
    "    'legend.fontsize': 'x-small',\n",
    "    'axes.labelsize': 'x-small',\n",
    "    'axes.titlesize': 'x-small',\n",
    "    'xtick.labelsize': 'x-small',\n",
    "    'ytick.labelsize': 'x-small',\n",
    "    # 'figure.figsize': (3.0, 1.7),\n",
    "}\n",
    "plt.rcParams.update(params)\n",
    "plt.clf()\n",
    "\n",
    "def parse_timestamp(timestamp_str):\n",
    "    # 2024-04-12 14:45:40.00857\n",
    "    # to datetime object\n",
    "    return pd.to_datetime(timestamp_str, format='%Y-%m-%d %H:%M:%S.%f')\n",
    "\n",
    "def parse_func_name(func_name_str):\n",
    "    # Func:'load_index' => \"load_index\"\n",
    "    str_l = func_name_str.split(\":\")\n",
    "    if \"completed\" in func_name_str:\n",
    "        return func_name_str\n",
    "    return str_l[-1][:]\n",
    "\n",
    "def parse_latency(time_str):\n",
    "    return float(time_str[:-1])\n",
    "\n",
    "def create_gantt_chart(load_index_hbars, search_index_hbars, figsize=(6, 1), ax=None, vline=True):\n",
    "    return_ax = False\n",
    "    if ax is None:\n",
    "        fig, ax = plt.subplots(figsize=figsize)\n",
    "        return_ax = True\n",
    "\n",
    "    bar_width = 0.5\n",
    "    bar_gap = 0.0\n",
    "    # [(x, length), ()], (y, bar_width)\n",
    "    ax.broken_barh(load_index_hbars[:], (1, bar_width), facecolors =('darkorange'))\n",
    "    ax.broken_barh(search_index_hbars[:], (1+bar_width+bar_gap, bar_width), facecolors =('green'))\n",
    "\n",
    "    ax.set_yticks([1+bar_width/2, 1+bar_width+bar_gap+bar_width/2], ['load', 'search'])\n",
    "    # ax.grid(True, alpha=0.5)\n",
    "\n",
    "    if vline:\n",
    "        last_x = search_index_hbars[-1][0]+search_index_hbars[-1][1]\n",
    "        ax.axvline(x=last_x, color='black', linestyle='--', alpha=1)\n",
    "\n",
    "    if return_ax:\n",
    "        return fig, ax\n",
    "    return ax\n",
    "\n",
    "log_headers = [\"timesteps\", \"start_time\", \"action\", \"latency\", \"file_path\", \"num_query\"]"
   ]
  },
  {
   "cell_type": "code",
   "execution_count": 3,
   "id": "2374f8c9",
   "metadata": {},
   "outputs": [],
   "source": [
    "def construct_load_search_bars(fpths, log_headers):\n",
    "    df = pd.read_csv(fpths, header=None)\n",
    "    df.columns = log_headers\n",
    "    df[\"action\"] = df[\"action\"].map(parse_func_name)\n",
    "    df[\"latency\"] = df[\"latency\"].map(parse_latency)\n",
    "    df['start_time'] = df['start_time'] - df['start_time'][0]\n",
    "    load_index_hbars = []\n",
    "    search_index_hbars = []\n",
    "    for i, row in df[df[\"action\"] == \"load_index\"].iterrows():\n",
    "        load_index_hbars.append((row[\"start_time\"], row[\"latency\"]))\n",
    "    for i, row in df[df[\"action\"] == \"query_index\"].iterrows():\n",
    "        search_index_hbars.append((row[\"start_time\"], row[\"latency\"]))\n",
    "    return load_index_hbars, search_index_hbars"
   ]
  },
  {
   "cell_type": "code",
   "execution_count": 4,
   "id": "93cc55d7",
   "metadata": {},
   "outputs": [
    {
     "name": "stdout",
     "output_type": "stream",
     "text": [
      "../logs/st_index_async_0.0_batch.log\n",
      "../logs/st_index_async_0.1_batch.log\n",
      "../logs/st_index_async_0.2_batch.log\n",
      "../logs/st_index_async_0.30000000000000004_batch.log\n",
      "../logs/st_index_async_0.4_batch.log\n",
      "../logs/st_index_async_0.5_batch.log\n",
      "../logs/st_index_async_0.6000000000000001_batch.log\n",
      "../logs/st_index_async_0.7000000000000001_batch.log\n",
      "../logs/st_index_async_0.8_batch.log\n",
      "../logs/st_index_async_0.9_batch.log\n",
      "../logs/st_index_async_1.0_batch.log\n"
     ]
    }
   ],
   "source": [
    "st = \"index_async\"\n",
    "total_idx = 1000\n",
    "mem_list = []\n",
    "for i in np.arange(0, 1.1, 0.1):\n",
    "    mem_list.append(int(total_idx * i))\n",
    "\n",
    "diverse_list = []\n",
    "for i in np.arange(0, 1.1, 0.1):\n",
    "    diverse_list.append(i)\n",
    "\n",
    "for m in diverse_list:\n",
    "    # if m==0: m=1\n",
    "    fp = \"../logs/st_{}_{}_batch.log\".format(st, m)\n",
    "    print(fp)\n",
    "    try:\n",
    "        l, s = construct_load_search_bars(fp, log_headers)\n",
    "        fig, ax = create_gantt_chart(l, s, ax=None)\n",
    "        fig.tight_layout()\n",
    "        fig.savefig(\"tmp/st_{}_{}_batch.pdf\".format(st, m))\n",
    "        plt.show()\n",
    "    except:\n",
    "        pass"
   ]
  },
  {
   "cell_type": "code",
   "execution_count": 5,
   "id": "358a8a44",
   "metadata": {},
   "outputs": [],
   "source": [
    "# st_query = {1: 153.61743285,\n",
    "#             100: 24.90386106,\n",
    "#             200: 9.29645746,\n",
    "#             300: 8.65851302,\n",
    "#             400: 8.57795881,\n",
    "#             500: 8.80642473,\n",
    "#             600: 9.36062568,\n",
    "#             700: 8.60914782,\n",
    "#             800: 8.61208765,\n",
    "#             900: 8.47547708,\n",
    "#             1000: 8.74988525}\n",
    "\n",
    "# st_index = {\n",
    "#     1: 0.81666721,\n",
    "#     100: 0.81620806,\n",
    "#     200: 0.77503797,\n",
    "#     300: 0.77260581,\n",
    "#     400: 0.74566446,\n",
    "#     500: 0.75055806,\n",
    "#     600: 0.82484493,\n",
    "#     700: 0.78199837,\n",
    "#     800: 0.75145365,\n",
    "#     900: 0.75596289,\n",
    "#     1000: 0.77090119\n",
    "# }\n",
    "\n",
    "# st_index_async = {\n",
    "#     1: 0.73935232,\n",
    "#     100: 0.55480419,\n",
    "#     200: 0.55719207,\n",
    "#     300: 0.51906040,\n",
    "#     400: 0.53654169,\n",
    "#     500: 0.55858433,\n",
    "#     600: 0.56641869,\n",
    "#     700: 0.56285429,\n",
    "#     800: 0.55761006,\n",
    "#     900: 0.53367700,\n",
    "#     1000: 0.53802682\n",
    "# }\n",
    "\n",
    "st_index = {\n",
    "  2: 0.81237061,\n",
    "  10: 0.80492424,\n",
    "  20: 0.85505778,\n",
    "  30: 0.80925883,\n",
    "  40: 0.79384483,\n",
    "  50: 0.80806565,\n",
    "  60: 0.78390244,\n",
    "  70: 0.81885252,\n",
    "  80: 0.80486187,\n",
    "  90: 0.76605449,\n",
    "  100: 0.81274959,\n",
    "  110: 0.80033717,\n",
    "  120: 0.76950316,\n",
    "  130: 0.76292698,\n",
    "  140: 0.80647462,\n",
    "  150: 0.79592599\n",
    "}\n",
    "st_index_async = {\n",
    "  2: 0.79033189,\n",
    "  10: 0.76767256,\n",
    "  20: 0.80207499,\n",
    "  30: 0.76050302,\n",
    "  40: 0.72184867,\n",
    "  50: 0.68826636,\n",
    "  60: 0.66692416,\n",
    "  70: 0.63135366,\n",
    "  80: 0.65039594,\n",
    "  90: 0.62567668,\n",
    "  100: 0.61817084,\n",
    "  110: 0.62717767,\n",
    "  120: 0.59988544,\n",
    "  130: 0.62862914,\n",
    "  140: 0.62398477,\n",
    "  150: 0.58546614\n",
    "}\n",
    "st_query = {\n",
    "  2: 213.69721973,\n",
    "  10: 207.84166055,\n",
    "  20: 147.38321909,\n",
    "  30: 85.6083321,\n",
    "  40: 57.75951941,\n",
    "  50: 36.27733554,\n",
    "  60: 24.10368417,\n",
    "  70: 17.60215008,\n",
    "  80: 15.61973379,\n",
    "  90: 12.59036233,\n",
    "  100: 11.70871196,\n",
    "  110: 11.93052936,\n",
    "  120: 11.78932149,\n",
    "  130: 11.83641724,\n",
    "  140: 12.12419985,\n",
    "  150: 11.77848282\n",
    "}\n"
   ]
  },
  {
   "cell_type": "code",
   "execution_count": 12,
   "id": "c978fec4",
   "metadata": {},
   "outputs": [
    {
     "data": {
      "image/png": "[encoded data removed]",
      "text/plain": [
       "<Figure size 350x190 with 1 Axes>"
      ]
     },
     "metadata": {},
     "output_type": "display_data"
    }
   ],
   "source": [
    "# compute tput query per sec\n",
    "num_query = 15000\n",
    "max_mem = 113\n",
    "\n",
    "tput_query = {}\n",
    "for k, v in st_query.items():\n",
    "    k = k / max_mem\n",
    "    tput_query[k] = num_query / v\n",
    "\n",
    "tput_index = {}\n",
    "for k, v in st_index.items():\n",
    "    k = k / max_mem\n",
    "    tput_index[k] = num_query / v\n",
    "\n",
    "tput_index_async = {}\n",
    "for k, v in st_index_async.items():\n",
    "    k = k / max_mem\n",
    "    tput_index_async[k] = num_query / v\n",
    "\n",
    "# plot tput\n",
    "linewidth = 2\n",
    "# plt.figure(figsize=(2.86, 2.3))\n",
    "plt.figure(figsize=(3.5, 1.9))\n",
    "plt.plot(list(tput_query.keys()), list(tput_query.values()), label=\"S1\", color='green', linewidth=linewidth, linestyle='-')\n",
    "plt.plot(list(tput_index.keys()), list(tput_index.values()), label=\"S2\", color='black', linewidth=linewidth)\n",
    "plt.plot(list(tput_index_async.keys()), list(tput_index_async.values()), label=\"S2+AsyncIO\", color='darkorange', linewidth=linewidth)\n",
    "\n",
    "# vertical line\n",
    "plt.axvline(x=1, color='black', linestyle='--', alpha=0.7, linewidth=linewidth-1)\n",
    "\n",
    "# 1 row, 3 columns legend\n",
    "# plt.legend(loc='upper center', bbox_to_anchor=(0.54, 1.17), ncol=3)\n",
    "plt.legend(loc='upper center', bbox_to_anchor=(0.5, 1.17), ncol=3)\n",
    "plt.xlabel(\"Memory budget for the current batch\")\n",
    "plt.ylabel(\"Throughput (query / sec)\")\n",
    "\n",
    "# make y-axis use scientific notation\n",
    "plt.ticklabel_format(axis='y', style='sci', scilimits=(0,0))\n",
    "plt.ylim(0, 26000)\n",
    "\n",
    "# plt.tight_layout()\n",
    "# plt.savefig(\"tmp/tput_memV2.pdf\")\n",
    "plt.savefig(\"plots/tput_mem.pdf\", bbox_inches=\"tight\")\n",
    "plt.show()"
   ]
  },
  {
   "cell_type": "code",
   "execution_count": 14,
   "id": "fe8bf7c9",
   "metadata": {},
   "outputs": [],
   "source": [
    "def precent_faster(a, b):\n",
    "    # a is the baseline\n",
    "    return (b - a) / a\n",
    "\n",
    "def times_faster(a, b):\n",
    "    # a is the baseline\n",
    "    return b / a"
   ]
  },
  {
   "cell_type": "code",
   "execution_count": 15,
   "id": "a41245fb",
   "metadata": {},
   "outputs": [
    {
     "name": "stdout",
     "output_type": "stream",
     "text": [
      "avg decrease:  73.64563688431807\n",
      "avg decrease:  0.1971118277390192\n"
     ]
    }
   ],
   "source": [
    "# list(tput_query.values())\n",
    "# list(tput_index.values())\n",
    "# list(tput_index_async.values())\n",
    "\n",
    "# compute precent max decrease between tput_query and tput_index_async\n",
    "max_decreases = []\n",
    "for a, b in zip(list(tput_query.values()), list(tput_index_async.values())):\n",
    "    p = precent_faster(a, b)\n",
    "    max_decreases.append(p)\n",
    "\n",
    "print(\"avg decrease: \", np.mean(max_decreases))\n",
    "\n",
    "max_decreases = []\n",
    "for a, b in zip(list(tput_index.values()), list(tput_index_async.values())):\n",
    "    p = precent_faster(a, b)\n",
    "    max_decreases.append(p)\n",
    "\n",
    "print(\"avg decrease: \", np.mean(max_decreases))"
   ]
  },
  {
   "cell_type": "code",
   "execution_count": null,
   "id": "fe67d85a",
   "metadata": {},
   "outputs": [],
   "source": []
  },
  {
   "cell_type": "code",
   "execution_count": 16,
   "id": "d7449c6b",
   "metadata": {},
   "outputs": [
    {
     "data": {
      "text/plain": [
       "{0.0: 22115.562305421754,\n",
       " 0.002: 13441.873956381307,\n",
       " 0.004: 9318.477059302591,\n",
       " 0.006: 8753.860857504224,\n",
       " 0.008: 8582.075346982747,\n",
       " 0.01: 7043.4738277683855,\n",
       " 0.05: 4833.583981247473}"
      ]
     },
     "execution_count": 16,
     "metadata": {},
     "output_type": "execute_result"
    }
   ],
   "source": [
    "# query diversity\n",
    "\n",
    "# st_query_diversity = {\n",
    "#     0.0: 9.43839952,\n",
    "#     0.1: 10.93816875,\n",
    "#     0.2: 10.70763876,\n",
    "#     0.3: 11.00994852,\n",
    "#     0.4: 12.05738855,\n",
    "#     0.5: 11.16794533,\n",
    "#     0.6: 11.23277323,\n",
    "#     0.7: 13.44501039,\n",
    "#     0.8: 11.27035343,\n",
    "#     0.9: 11.34796564,\n",
    "#     1.0: 11.30618735\n",
    "# }\n",
    "# st_index_diversity = {\n",
    "#     0.0: 1.14276421,\n",
    "#     0.1: 1.95855080,\n",
    "#     0.2: 1.83449230,\n",
    "#     0.3: 1.89141592,\n",
    "#     0.4: 1.88526955,\n",
    "#     0.5: 1.89281210,\n",
    "#     0.6: 1.88903056,\n",
    "#     0.7: 1.90273121,\n",
    "#     0.8: 1.96149863,\n",
    "#     0.9: 1.92830793,\n",
    "#     1.0: 1.94605508\n",
    "# }\n",
    "# st_index_async_diversity = {\n",
    "#     0.0: 0.78801695,\n",
    "#     0.1: 1.55864374,\n",
    "#     0.2: 1.40223565,\n",
    "#     0.3: 1.39977139,\n",
    "#     0.4: 1.40591503,\n",
    "#     0.5: 1.38263734,\n",
    "#     0.6: 1.41171381,\n",
    "#     0.7: 1.45423789,\n",
    "#     0.8: 1.47577877,\n",
    "#     0.9: 1.46389665,\n",
    "#     1.0: 1.49676419\n",
    "# }\n",
    "\n",
    "num_query = 10000\n",
    "st_index_async_diversity =  {\n",
    "  0.0: 0.45217028,\n",
    "  0.002: 0.74394389,\n",
    "  0.004: 1.07313673,\n",
    "  0.006: 1.14235309,\n",
    "  0.008: 1.16521932,\n",
    "  0.01: 1.41975398,\n",
    "  0.05: 2.06885823,\n",
    "  # 0.1: 2.0455493\n",
    "}\n",
    "st_index_diversity = {\n",
    "  0.0: 0.58636054,\n",
    "  0.002: 0.91676583,\n",
    "  0.004: 1.22866432,\n",
    "  0.006: 1.43039795,\n",
    "  0.008: 1.54039739,\n",
    "  0.01: 1.66379801,\n",
    "  0.05: 2.11181633,\n",
    "  # 0.1: 2.10928185\n",
    "}\n",
    "st_query_diversity = {\n",
    "  0.0: 8.230743,\n",
    "  0.002: 9.00914463,\n",
    "  0.004: 9.83213899,\n",
    "  0.006: 9.8606782,\n",
    "  0.008: 10.14792845,\n",
    "  0.01: 11.27789476,\n",
    "  0.05: 12.15238989,\n",
    "  # 0.1: 12.48343554\n",
    "}\n",
    "\n",
    "# convert to query per sec\n",
    "tput_query_diversity = {}\n",
    "for k, v in st_query_diversity.items():\n",
    "    tput_query_diversity[float(str(k)[:5])] = num_query / v\n",
    "\n",
    "tput_index_diversity = {}\n",
    "for k, v in st_index_diversity.items():\n",
    "    tput_index_diversity[float(str(k)[:5])] = num_query / v\n",
    "\n",
    "tput_index_async_diversity = {}\n",
    "for k, v in st_index_async_diversity.items():\n",
    "    tput_index_async_diversity[float(str(k)[:5])] = num_query / v\n",
    "  \n",
    "tput_index_async_diversity"
   ]
  },
  {
   "cell_type": "code",
   "execution_count": 17,
   "id": "ed02019d",
   "metadata": {},
   "outputs": [
    {
     "data": {
      "image/png": "[encoded data removed]",
      "text/plain": [
       "<Figure size 350x190 with 1 Axes>"
      ]
     },
     "metadata": {},
     "output_type": "display_data"
    }
   ],
   "source": [
    "linewidth = 2 \n",
    "\n",
    "# plot\n",
    "# plt.figure(figsize=(4, 1.9))\n",
    "plt.figure(figsize=(3.5, 1.9))\n",
    "plt.plot(np.array(list(tput_query_diversity.keys()))*100, list(tput_query_diversity.values()), label=\"S1\", color='green', linewidth=linewidth, linestyle='-')\n",
    "plt.plot(np.array(list(tput_index_diversity.keys()))*100, list(tput_index_diversity.values()), label=\"S2\", color='black', linewidth=linewidth)\n",
    "plt.plot(np.array(list(tput_index_async_diversity.keys()))*100, list(tput_index_async_diversity.values()), label=\"S2+AsyncIO\", color='darkorange', linewidth=linewidth)\n",
    "\n",
    "# set xticks\n",
    "# plt.xticks(np.arange(0, 0.051, 0.001))\n",
    "# plt.xlim([0., 2])\n",
    "\n",
    "# 1 row, 3 columns legend\n",
    "# plt.legend(loc='upper center', bbox_to_anchor=(0.54, 1.17), ncol=3)\n",
    "plt.legend(loc='upper center', bbox_to_anchor=(0.5, 1.17), ncol=3)\n",
    "plt.xlabel(\"Percentage of OOD queries in a batch\")\n",
    "plt.ylabel(\"Throughput (query / sec)\")\n",
    "\n",
    "plt.ticklabel_format(axis='y', style='sci', scilimits=(0,0))\n",
    "plt.ylim(0, 26000)\n",
    "\n",
    "# plt.tight_layout()\n",
    "plt.savefig(\"plots/tput_diversity.pdf\", bbox_inches=\"tight\")\n",
    "plt.show()"
   ]
  },
  {
   "cell_type": "code",
   "execution_count": 18,
   "metadata": {},
   "outputs": [
    {
     "name": "stdout",
     "output_type": "stream",
     "text": [
      "avg decrease:  9.090461471536457\n",
      "avg decrease:  0.20582706403256368\n"
     ]
    }
   ],
   "source": [
    "# np.arange(0, 0.05, 0.001)\n",
    "\n",
    "# compute precent max decrease between tput_query and tput_index_async\n",
    "max_decreases = []\n",
    "for a, b in zip(list(tput_query_diversity.values()), list(tput_index_async_diversity.values())):\n",
    "    p = precent_faster(a, b)\n",
    "    max_decreases.append(p)\n",
    "\n",
    "print(\"avg decrease: \", np.mean(max_decreases))\n",
    "\n",
    "max_decreases = []\n",
    "for a, b in zip(list(tput_index_diversity.values()), list(tput_index_async_diversity.values())):\n",
    "    p = precent_faster(a, b)\n",
    "    max_decreases.append(p)\n",
    "\n",
    "print(\"avg decrease: \", np.mean(max_decreases))"
   ]
  },
  {
   "cell_type": "code",
   "execution_count": 19,
   "id": "bb2fef9d",
   "metadata": {},
   "outputs": [
    {
     "data": {
      "text/plain": [
       "[0.29676930558107456,\n",
       " 0.23230507343772927,\n",
       " 0.14492802795036183,\n",
       " 0.25215046251592826,\n",
       " 0.3219806465275568,\n",
       " 0.17189177381281237,\n",
       " 0.020764158402482698]"
      ]
     },
     "execution_count": 19,
     "metadata": {},
     "output_type": "execute_result"
    }
   ],
   "source": [
    "max_decreases"
   ]
  },
  {
   "cell_type": "code",
   "execution_count": 20,
   "id": "b1d32659",
   "metadata": {},
   "outputs": [
    {
     "data": {
      "text/plain": [
       "-0.6967883374121273"
      ]
     },
     "execution_count": 20,
     "metadata": {},
     "output_type": "execute_result"
    }
   ],
   "source": [
    "# compute percentage tput change compared to previous\n",
    "\n",
    "def random_floats(size, low=0, high=1, seed=None):\n",
    "    # if seed is not None: np.random.seed(seed)\n",
    "    return [np.random.uniform(low, high) for _ in range(size)]\n",
    "\n",
    "random_floats(1, -1., 1)[0]"
   ]
  },
  {
   "cell_type": "code",
   "execution_count": 21,
   "id": "45553868",
   "metadata": {},
   "outputs": [
    {
     "name": "stdout",
     "output_type": "stream",
     "text": [
      "{'idx1': [1, 2, 3, 4, 5],\n",
      " 'idx2': [1, 2, 3, 4],\n",
      " 'idx3': [1, 2, 3],\n",
      " 'idx4': [1, 2],\n",
      " 'idx5': [1]}\n",
      "\n",
      "[('idx5', [1]), ('idx3', [1, 2, 3])]\n",
      "\n",
      "{'idx5': [1], 'idx3': [1, 2, 3], 'idx1': [1, 2, 3, 4, 5], 'idx2': [1, 2, 3, 4], 'idx4': [1, 2]}\n",
      "idx5 [1]\n",
      "idx3 [1, 2, 3]\n",
      "idx1 [1, 2, 3, 4, 5]\n",
      "idx2 [1, 2, 3, 4]\n",
      "idx4 [1, 2]\n"
     ]
    }
   ],
   "source": [
    "from pprint import pprint\n",
    "\n",
    "st = {\"idx1\": [1,2,3,4,5], \n",
    "     \"idx2\": [1,2,3,4], \n",
    "     \"idx3\": [1,2,3],\n",
    "     \"idx4\": [1,2],\n",
    "     \"idx5\": [1]}\n",
    "\n",
    "pprint(st)\n",
    "print()\n",
    "\n",
    "dram_idx_dict = {\"idx5\": \"idx3obj\",\n",
    "     \"idx3\": \"idx3obj\"}\n",
    "\n",
    "\n",
    "dram_idxs = []\n",
    "for k, v in dram_idx_dict.items():\n",
    "    if k in st:\n",
    "        dram_idxs.append((k,st[k]))\n",
    "        del st[k]\n",
    "\n",
    "# sort by length, small batch first, so can finish faster and leave more space for loading\n",
    "dram_idxs = sorted(dram_idxs, key=lambda x: len(x[1]), reverse=False)\n",
    "print(dram_idxs)\n",
    "\n",
    "dram_idxs.extend(list(st.items()))\n",
    "dram_idxs = dict(dram_idxs)\n",
    "print()\n",
    "print(dram_idxs)\n",
    "\n",
    "for k, v in dram_idxs.items():\n",
    "    print(k, v)"
   ]
  },
  {
   "cell_type": "code",
   "execution_count": 22,
   "id": "11e9f508",
   "metadata": {},
   "outputs": [
    {
     "name": "stdout",
     "output_type": "stream",
     "text": [
      "0.0 0.001 0.001 0.008 0.3 0.0 0.5 0.1 1.0 0.001 0.0 0.002 0.003 0.006 1.0 0.05 0.008 0.05 1.0 1.0 0.0 1.0 0.001 0.003 0.005 0.0 0.001 0.1 0.009 0.004 0.0 0.003 0.3 1.0 0.001 0.1 0.5 0.3 0.05 0.0 0.003 0.0 0.01 0.3 0.0 0.0 0.008 0.004 0.009 0.0 0.05 0.006 0.05 0.002 0.0 0.5 0.001 0.0 0.005 0.3 0.5 1.0 0.0 0.009 1.0 0.009 0.001 0.5 0.1 0.009 0.3 0.01 0.001 0.005 0.0 0.5 0.002 0.007 0.3 0.005 0.0 0.0 0.0 0.004 0.0 0.0 0.0 0.002 0.002 0.1 0.5 0.002 0.006 0.004 0.0 0.004 0.5 0.3 0.0 0.0 "
     ]
    }
   ],
   "source": [
    "mrs = [0., 0., 0., 0., 0., 0.001, 0.001, 0.001, 0.002, 0.003, 0.004, 0.005, 0.006, 0.007, 0.008, 0.009, 0.01, 0.05, 0.1, 0.3, 0.5, 1.0]\n",
    "\n",
    "# randomly pick 100 numbers from mrs\n",
    "mrs = np.random.choice(mrs, 100)\n",
    "\n",
    "for m in mrs:\n",
    "    print(m, end=\" \")"
   ]
  },
  {
   "cell_type": "code",
   "execution_count": 23,
   "id": "93cc3c27",
   "metadata": {},
   "outputs": [
    {
     "data": {
      "text/plain": [
       "array([[ 0.60235322, -0.70205287, -0.48632218, -0.53687197, -1.05623486,\n",
       "         0.34751997, -0.85590456, -0.26123182,  0.41929236,  0.90219588],\n",
       "       [ 0.83782663, -0.89311461, -0.33605799, -0.37842487, -0.11336681,\n",
       "        -0.24578843, -0.96530683, -0.73067618,  1.16530123,  0.59602633],\n",
       "       [ 0.85047836, -1.03008369, -0.49408334, -0.71551829, -1.24231949,\n",
       "        -0.3060087 , -0.71606706,  0.34817097,  0.2065103 ,  1.08408215],\n",
       "       [-0.37765259, -0.54159761, -0.39463581, -0.49756249, -0.70006999,\n",
       "        -0.50167173, -0.52894279, -0.70032288,  0.80474432,  1.11634077],\n",
       "       [ 0.88047903, -0.73395724, -0.4248955 , -0.53369049, -0.84522144,\n",
       "        -0.92717591, -0.64479274,  0.40710179,  0.4947262 ,  1.18714592]])"
      ]
     },
     "execution_count": 23,
     "metadata": {},
     "output_type": "execute_result"
    }
   ],
   "source": [
    "num_vectors = 5\n",
    "num_dimensions = 10\n",
    "\n",
    "means = np.random.uniform(-1, 1, num_dimensions)\n",
    "std_devs = np.random.uniform(0.1, 0.5, num_dimensions)\n",
    "\n",
    "random_vectors = np.random.normal(loc=means, scale=std_devs, size=(num_vectors, num_dimensions))\n",
    "random_vectors"
   ]
  },
  {
   "cell_type": "code",
   "execution_count": null,
   "id": "a6b1e71f",
   "metadata": {},
   "outputs": [],
   "source": []
  },
  {
   "cell_type": "markdown",
   "id": "d1a3fbff",
   "metadata": {},
   "source": [
    "# Serving Tputs"
   ]
  },
  {
   "cell_type": "code",
   "execution_count": 24,
   "id": "658039e0",
   "metadata": {},
   "outputs": [],
   "source": [
    "# read file line by line\n",
    "lru_times = []\n",
    "lru_tputs = []\n",
    "lru_avg_tputs = []\n",
    "\n",
    "fpth = \"../logs/lru_tput.tmp\"\n",
    "with open(fpth, 'r') as f:\n",
    "    for line in f:\n",
    "        # print(line[:-1])\n",
    "        t = float(line.split(\" \")[1])\n",
    "        tput = float(line.split(\" \")[4])\n",
    "        avg_tput = float(line.split(\" \")[7])\n",
    "        lru_times.append(t)\n",
    "        lru_tputs.append(tput)\n",
    "        lru_avg_tputs.append(avg_tput)"
   ]
  },
  {
   "cell_type": "code",
   "execution_count": 25,
   "id": "42378c80",
   "metadata": {},
   "outputs": [],
   "source": [
    "# read file line by line\n",
    "lfu_times = []\n",
    "lfu_tputs = []\n",
    "lfu_avg_tputs = []\n",
    "\n",
    "fpth = \"../logs/lfu_tput.tmp\"\n",
    "with open(fpth, 'r') as f:\n",
    "    for line in f:\n",
    "        t = float(line.split(\" \")[1])\n",
    "        tput = float(line.split(\" \")[4])\n",
    "        avg_tput = float(line.split(\" \")[7])\n",
    "        lfu_times.append(t)\n",
    "        lfu_tputs.append(tput)\n",
    "        lfu_avg_tputs.append(avg_tput)"
   ]
  },
  {
   "cell_type": "code",
   "execution_count": 26,
   "id": "f7a86e0e",
   "metadata": {},
   "outputs": [
    {
     "data": {
      "image/png": "[encoded data removed]",
      "text/plain": [
       "<Figure size 350x190 with 1 Axes>"
      ]
     },
     "metadata": {},
     "output_type": "display_data"
    }
   ],
   "source": [
    "# plot\n",
    "# plt.figure(figsize=(4, 1.9))\n",
    "plt.figure(figsize=(3.5, 1.9))\n",
    "# plt.plot(lru_times, lru_tputs, label=\"Tput\", color='green', linewidth=1, linestyle='-')\n",
    "plt.plot(lru_times, lru_avg_tputs, label=\"LRU\", color='green', linewidth=2, linestyle='-')\n",
    "\n",
    "# plt.plot(lfu_times, lfu_tputs, label=\"Tput\", color='darkorange', linewidth=1, linestyle='-')\n",
    "plt.plot(lfu_times, lfu_avg_tputs, label=\"LFU+\", color='darkorange', linewidth=2)\n",
    "\n",
    "# add vertical lines\n",
    "plt.axvline(x=lru_times[-1], color='black', linestyle='--', alpha=0.7, linewidth=1)\n",
    "plt.axvline(x=lfu_times[-1], color='black', linestyle='--', alpha=0.7, linewidth=1)\n",
    "\n",
    "\n",
    "plt.ylim(0, 29000)\n",
    "plt.ticklabel_format(axis='y', style='sci', scilimits=(0,0))\n",
    "\n",
    "plt.legend(loc='lower left')\n",
    "plt.xlabel(\"Time (s)\")\n",
    "plt.ylabel(\"Throughput (query / sec)\")\n",
    "# plt.tight_layout()\n",
    "# plt.savefig(\"tmp/lru_lfu_tput.pdf\")\n",
    "plt.savefig(\"plots/lru_lfu_tput.pdf\", bbox_inches=\"tight\")\n",
    "plt.show()"
   ]
  },
  {
   "cell_type": "code",
   "execution_count": 37,
   "id": "3d3149c4",
   "metadata": {},
   "outputs": [
    {
     "name": "stdout",
     "output_type": "stream",
     "text": [
      "avg decrease:  0.14512973834858775\n"
     ]
    }
   ],
   "source": [
    "max_decreases = []\n",
    "for a, b in zip(lru_avg_tputs, lfu_avg_tputs):\n",
    "    p = precent_faster(a, b)\n",
    "    max_decreases.append(p)\n",
    "\n",
    "print(\"avg decrease: \", np.mean(max_decreases))"
   ]
  },
  {
   "cell_type": "code",
   "execution_count": null,
   "id": "c21bb44e",
   "metadata": {},
   "outputs": [],
   "source": []
  }
 ],
 "metadata": {
  "kernelspec": {
   "display_name": "Python 3 (ipykernel)",
   "language": "python",
   "name": "python3"
  },
  "language_info": {
   "codemirror_mode": {
    "name": "ipython",
    "version": 3
   },
   "file_extension": ".py",
   "mimetype": "text/x-python",
   "name": "python",
   "nbconvert_exporter": "python",
   "pygments_lexer": "ipython3",
   "version": "3.9.19"
  }
 },
 "nbformat": 4,
 "nbformat_minor": 5
}
