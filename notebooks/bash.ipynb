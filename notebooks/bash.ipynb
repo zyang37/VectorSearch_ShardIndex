{
 "cells": [
  {
   "cell_type": "code",
   "execution_count": 2,
   "id": "0dcd63c3-14a3-4c6a-ac03-292654ff1a1a",
   "metadata": {},
   "outputs": [
    {
     "data": {
      "text/plain": [
       "<Figure size 640x480 with 0 Axes>"
      ]
     },
     "metadata": {},
     "output_type": "display_data"
    }
   ],
   "source": [
    "import time\n",
    "import pandas as pd\n",
    "import numpy as np\n",
    "from datetime import datetime\n",
    "import matplotlib.pyplot as plt\n",
    "\n",
    "params = {\n",
    "    # 'font.family': 'Inter',\n",
    "    'font.family': 'sans-serif',\n",
    "    'legend.fontsize': 'x-small',\n",
    "    'axes.labelsize': 'x-small',\n",
    "    'axes.titlesize': 'x-small',\n",
    "    'xtick.labelsize': 'x-small',\n",
    "    'ytick.labelsize': 'x-small',\n",
    "    # 'figure.figsize': (3.0, 1.7),\n",
    "}\n",
    "plt.rcParams.update(params)\n",
    "plt.clf()\n",
    "\n",
    "def parse_timestamp(timestamp_str):\n",
    "    # 2024-04-12 14:45:40.00857\n",
    "    # to datetime object\n",
    "    return pd.to_datetime(timestamp_str, format='%Y-%m-%d %H:%M:%S.%f')\n",
    "\n",
    "def parse_func_name(func_name_str):\n",
    "    # Func:'load_index' => \"load_index\"\n",
    "    str_l = func_name_str.split(\":\")\n",
    "    if \"completed\" in func_name_str:\n",
    "        return func_name_str\n",
    "    return str_l[-1][:]\n",
    "\n",
    "def parse_latency(time_str):\n",
    "    return float(time_str[:-1])\n",
    "\n",
    "def create_gantt_chart(load_index_hbars, search_index_hbars, figsize=(6, 1), ax=None, vline=True):\n",
    "    return_ax = False\n",
    "    if ax is None:\n",
    "        fig, ax = plt.subplots(figsize=figsize)\n",
    "        return_ax = True\n",
    "\n",
    "    bar_width = 0.5\n",
    "    bar_gap = 0.0\n",
    "    # [(x, length), ()], (y, bar_width)\n",
    "    ax.broken_barh(load_index_hbars[:], (1, bar_width), facecolors =('darkorange'))\n",
    "    ax.broken_barh(search_index_hbars[:], (1+bar_width+bar_gap, bar_width), facecolors =('green'))\n",
    "\n",
    "    ax.set_yticks([1+bar_width/2, 1+bar_width+bar_gap+bar_width/2], ['load', 'search'])\n",
    "    # ax.grid(True, alpha=0.5)\n",
    "\n",
    "    if vline:\n",
    "        last_x = search_index_hbars[-1][0]+search_index_hbars[-1][1]\n",
    "        ax.axvline(x=last_x, color='black', linestyle='--', alpha=1)\n",
    "\n",
    "    if return_ax:\n",
    "        return fig, ax\n",
    "    return ax\n",
    "\n",
    "log_headers = [\"timesteps\", \"start_time\", \"action\", \"latency\", \"file_path\", \"num_query\"]"
   ]
  },
  {
   "cell_type": "code",
   "execution_count": 3,
   "id": "2374f8c9",
   "metadata": {},
   "outputs": [],
   "source": [
    "def construct_load_search_bars(fpths, log_headers):\n",
    "    df = pd.read_csv(fpths, header=None)\n",
    "    df.columns = log_headers\n",
    "    df[\"action\"] = df[\"action\"].map(parse_func_name)\n",
    "    df[\"latency\"] = df[\"latency\"].map(parse_latency)\n",
    "    df['start_time'] = df['start_time'] - df['start_time'][0]\n",
    "    load_index_hbars = []\n",
    "    search_index_hbars = []\n",
    "    for i, row in df[df[\"action\"] == \"load_index\"].iterrows():\n",
    "        load_index_hbars.append((row[\"start_time\"], row[\"latency\"]))\n",
    "    for i, row in df[df[\"action\"] == \"query_index\"].iterrows():\n",
    "        search_index_hbars.append((row[\"start_time\"], row[\"latency\"]))\n",
    "    return load_index_hbars, search_index_hbars"
   ]
  },
  {
   "cell_type": "code",
   "execution_count": 4,
   "id": "93cc55d7",
   "metadata": {},
   "outputs": [
    {
     "name": "stdout",
     "output_type": "stream",
     "text": [
      "../logs/st_index_async_0.0_batch.log\n",
      "../logs/st_index_async_0.1_batch.log\n",
      "../logs/st_index_async_0.2_batch.log\n",
      "../logs/st_index_async_0.30000000000000004_batch.log\n",
      "../logs/st_index_async_0.4_batch.log\n",
      "../logs/st_index_async_0.5_batch.log\n",
      "../logs/st_index_async_0.6000000000000001_batch.log\n",
      "../logs/st_index_async_0.7000000000000001_batch.log\n",
      "../logs/st_index_async_0.8_batch.log\n",
      "../logs/st_index_async_0.9_batch.log\n",
      "../logs/st_index_async_1.0_batch.log\n"
     ]
    }
   ],
   "source": [
    "st = \"index_async\"\n",
    "total_idx = 1000\n",
    "mem_list = []\n",
    "for i in np.arange(0, 1.1, 0.1):\n",
    "    mem_list.append(int(total_idx * i))\n",
    "\n",
    "diverse_list = []\n",
    "for i in np.arange(0, 1.1, 0.1):\n",
    "    diverse_list.append(i)\n",
    "\n",
    "for m in diverse_list:\n",
    "    # if m==0: m=1\n",
    "    fp = \"../logs/st_{}_{}_batch.log\".format(st, m)\n",
    "    print(fp)\n",
    "    try:\n",
    "        l, s = construct_load_search_bars(fp, log_headers)\n",
    "        fig, ax = create_gantt_chart(l, s, ax=None)\n",
    "        fig.tight_layout()\n",
    "        fig.savefig(\"tmp/st_{}_{}_batch.pdf\".format(st, m))\n",
    "        plt.show()\n",
    "    except:\n",
    "        pass"
   ]
  },
  {
   "cell_type": "code",
   "execution_count": 5,
   "id": "358a8a44",
   "metadata": {},
   "outputs": [],
   "source": [
    "st_query = {1: 153.61743285,\n",
    "            100: 24.90386106,\n",
    "            200: 9.29645746,\n",
    "            300: 8.65851302,\n",
    "            400: 8.57795881,\n",
    "            500: 8.80642473,\n",
    "            600: 9.36062568,\n",
    "            700: 8.60914782,\n",
    "            800: 8.61208765,\n",
    "            900: 8.47547708,\n",
    "            1000: 8.74988525}\n",
    "\n",
    "st_index = {\n",
    "    1: 0.81666721,\n",
    "    100: 0.81620806,\n",
    "    200: 0.77503797,\n",
    "    300: 0.77260581,\n",
    "    400: 0.74566446,\n",
    "    500: 0.75055806,\n",
    "    600: 0.82484493,\n",
    "    700: 0.78199837,\n",
    "    800: 0.75145365,\n",
    "    900: 0.75596289,\n",
    "    1000: 0.77090119\n",
    "}\n",
    "\n",
    "st_index_async = {\n",
    "    1: 0.73935232,\n",
    "    100: 0.55480419,\n",
    "    200: 0.55719207,\n",
    "    300: 0.51906040,\n",
    "    400: 0.53654169,\n",
    "    500: 0.55858433,\n",
    "    600: 0.56641869,\n",
    "    700: 0.56285429,\n",
    "    800: 0.55761006,\n",
    "    900: 0.53367700,\n",
    "    1000: 0.53802682\n",
    "}"
   ]
  },
  {
   "cell_type": "code",
   "execution_count": 9,
   "id": "c978fec4",
   "metadata": {},
   "outputs": [
    {
     "data": {
      "image/png": "[encoded data removed]",
      "text/plain": [
       "<Figure size 350x250 with 1 Axes>"
      ]
     },
     "metadata": {},
     "output_type": "display_data"
    }
   ],
   "source": [
    "# compute tput query per sec\n",
    "num_query = 10000\n",
    "max_mem = 1000\n",
    "\n",
    "tput_query = {}\n",
    "for k, v in st_query.items():\n",
    "    k = k / max_mem\n",
    "    tput_query[k] = num_query / v\n",
    "\n",
    "tput_index = {}\n",
    "for k, v in st_index.items():\n",
    "    k = k / max_mem\n",
    "    tput_index[k] = num_query / v\n",
    "\n",
    "tput_index_async = {}\n",
    "for k, v in st_index_async.items():\n",
    "    k = k / max_mem\n",
    "    tput_index_async[k] = num_query / v\n",
    "\n",
    "# plot tput\n",
    "linewidth = 2\n",
    "plt.figure(figsize=(3.5, 2.5))\n",
    "plt.plot(list(tput_query.keys()), list(tput_query.values()), label=\"S1\", color='green', linewidth=linewidth, linestyle='--')\n",
    "plt.plot(list(tput_index.keys()), list(tput_index.values()), label=\"S2\", color='black', linewidth=linewidth)\n",
    "plt.plot(list(tput_index_async.keys()), list(tput_index_async.values()), label=\"S2+AsyncIO\", color='darkorange', linewidth=linewidth)\n",
    "\n",
    "# 1 row, 3 columns legend\n",
    "plt.legend(loc='upper center', bbox_to_anchor=(0.5, 1.15), ncol=3)\n",
    "plt.xlabel(\"Memory capacity\")\n",
    "plt.ylabel(\"Throughput (query/sec)\")\n",
    "plt.tight_layout()\n",
    "plt.savefig(\"tmp/tput_mem.pdf\")\n",
    "plt.show()"
   ]
  },
  {
   "cell_type": "code",
   "execution_count": null,
   "id": "fe8bf7c9",
   "metadata": {},
   "outputs": [],
   "source": []
  },
  {
   "cell_type": "code",
   "execution_count": 142,
   "id": "d7449c6b",
   "metadata": {},
   "outputs": [],
   "source": [
    "# query diversity\n",
    "\n",
    "st_query_diversity = {\n",
    "    0.0: 9.43839952,\n",
    "    0.1: 10.93816875,\n",
    "    0.2: 10.70763876,\n",
    "    0.3: 11.00994852,\n",
    "    0.4: 12.05738855,\n",
    "    0.5: 11.16794533,\n",
    "    0.6: 11.23277323,\n",
    "    0.7: 13.44501039,\n",
    "    0.8: 11.27035343,\n",
    "    0.9: 11.34796564,\n",
    "    1.0: 11.30618735\n",
    "}\n",
    "\n",
    "\n",
    "st_index_diversity = {\n",
    "    0.0: 1.14276421,\n",
    "    0.1: 1.95855080,\n",
    "    0.2: 1.83449230,\n",
    "    0.3: 1.89141592,\n",
    "    0.4: 1.88526955,\n",
    "    0.5: 1.89281210,\n",
    "    0.6: 1.88903056,\n",
    "    0.7: 1.90273121,\n",
    "    0.8: 1.96149863,\n",
    "    0.9: 1.92830793,\n",
    "    1.0: 1.94605508\n",
    "}\n",
    "\n",
    "\n",
    "st_index_async_diversity = {\n",
    "    0.0: 0.78801695,\n",
    "    0.1: 1.55864374,\n",
    "    0.2: 1.40223565,\n",
    "    0.3: 1.39977139,\n",
    "    0.4: 1.40591503,\n",
    "    0.5: 1.38263734,\n",
    "    0.6: 1.41171381,\n",
    "    0.7: 1.45423789,\n",
    "    0.8: 1.47577877,\n",
    "    0.9: 1.46389665,\n",
    "    1.0: 1.49676419\n",
    "}\n",
    "\n",
    "\n",
    "# convert to query per sec\n",
    "tput_query_diversity = {}\n",
    "for k, v in st_query_diversity.items():\n",
    "    tput_query_diversity[str(k)[:3]] = num_query / v\n",
    "\n",
    "tput_index_diversity = {}\n",
    "for k, v in st_index_diversity.items():\n",
    "    tput_index_diversity[str(k)[:3]] = num_query / v\n",
    "\n",
    "tput_index_async_diversity = {}\n",
    "for k, v in st_index_async_diversity.items():\n",
    "    tput_index_async_diversity[str(k)[:3]] = num_query / v"
   ]
  },
  {
   "cell_type": "code",
   "execution_count": 124,
   "id": "ed02019d",
   "metadata": {},
   "outputs": [
    {
     "data": {
      "image/png": "[encoded data removed]",
      "text/plain": [
       "<Figure size 350x230 with 1 Axes>"
      ]
     },
     "metadata": {},
     "output_type": "display_data"
    }
   ],
   "source": [
    "# plot\n",
    "plt.figure(figsize=(3.5, 2.3))\n",
    "plt.plot(list(tput_query_diversity.keys()), list(tput_query_diversity.values()), label=\"S1\", color='green', linewidth=linewidth, linestyle='--')\n",
    "plt.plot(list(tput_index_diversity.keys()), list(tput_index_diversity.values()), label=\"S2\", color='black', linewidth=linewidth)\n",
    "plt.plot(list(tput_index_async_diversity.keys()), list(tput_index_async_diversity.values()), label=\"S2+AsyncIO\", color='darkorange', linewidth=linewidth)\n",
    "\n",
    "# 1 row, 3 columns legend\n",
    "plt.legend(loc='upper center', bbox_to_anchor=(0.5, 1.18), ncol=3)\n",
    "plt.xlabel(\"Query diversity\")\n",
    "plt.ylabel(\"Throughput (query/sec)\")\n",
    "plt.tight_layout()\n",
    "plt.savefig(\"tmp/tput_diversity.pdf\")\n",
    "plt.show()"
   ]
  },
  {
   "cell_type": "code",
   "execution_count": 155,
   "id": "b1d32659",
   "metadata": {},
   "outputs": [
    {
     "data": {
      "text/plain": [
       "-0.12596262729744656"
      ]
     },
     "execution_count": 155,
     "metadata": {},
     "output_type": "execute_result"
    }
   ],
   "source": [
    "# compute percentage tput change compared to previous\n",
    "\n",
    "def random_floats(size, low=0, high=1, seed=None):\n",
    "    # if seed is not None: np.random.seed(seed)\n",
    "    return [np.random.uniform(low, high) for _ in range(size)]\n",
    "\n",
    "random_floats(1, -1., 1)[0]"
   ]
  },
  {
   "cell_type": "code",
   "execution_count": 12,
   "id": "45553868",
   "metadata": {},
   "outputs": [
    {
     "data": {
      "text/plain": [
       "array([[0.09762701, 0.43037873]])"
      ]
     },
     "execution_count": 12,
     "metadata": {},
     "output_type": "execute_result"
    }
   ],
   "source": [
    "np.random.seed(0)\n",
    "np.random.uniform(-1, 1, (1, 2))"
   ]
  },
  {
   "cell_type": "code",
   "execution_count": null,
   "id": "11e9f508",
   "metadata": {},
   "outputs": [],
   "source": []
  }
 ],
 "metadata": {
  "kernelspec": {
   "display_name": "Python 3 (ipykernel)",
   "language": "python",
   "name": "python3"
  },
  "language_info": {
   "codemirror_mode": {
    "name": "ipython",
    "version": 3
   },
   "file_extension": ".py",
   "mimetype": "text/x-python",
   "name": "python",
   "nbconvert_exporter": "python",
   "pygments_lexer": "ipython3",
   "version": "3.9.19"
  }
 },
 "nbformat": 4,
 "nbformat_minor": 5
}
